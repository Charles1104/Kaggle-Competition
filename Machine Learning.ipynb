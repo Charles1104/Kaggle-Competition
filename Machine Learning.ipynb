{
 "cells": [
  {
   "cell_type": "code",
   "execution_count": 24,
   "metadata": {},
   "outputs": [],
   "source": [
    "import pandas as pd\n",
    "import numpy as np\n",
    "import matplotlib.pyplot as plt\n",
    "import time, datetime\n",
    "import data_wrangling as dw\n",
    "\n",
    "#xgboost = gradientboosted tress\n",
    "from sklearn.grid_search import GridSearchCV\n",
    "from sklearn.pipeline import Pipeline\n",
    "from sklearn.ensemble import RandomForestClassifier\n",
    "from sklearn.preprocessing import StandardScaler\n",
    "from sklearn.feature_selection import chi2, SelectKBest, f_classif\n",
    "from sklearn.metrics import accuracy_score, roc_auc_score\n",
    "from sklearn.svm import LinearSVC"
   ]
  },
  {
   "cell_type": "code",
   "execution_count": 25,
   "metadata": {
    "collapsed": true
   },
   "outputs": [],
   "source": [
    "def time_mask(df, key = 'Proc.Start.Date', value = '01/01/08'):\n",
    "    t = time.mktime(datetime.datetime.strptime(value,'%d/%m/%y').timetuple())\n",
    "    return df[key] >= t"
   ]
  },
  {
   "cell_type": "code",
   "execution_count": 26,
   "metadata": {
    "collapsed": true
   },
   "outputs": [],
   "source": [
    "def split_df(df):\n",
    "    #mask = time_mask(df)\n",
    "    \n",
    "    #finalDf_train = df[-mask] # training 6000\n",
    "    #finalDf_test = df[mask]   # training2 cros validation\n",
    "    \n",
    "    idx_val = pd.read_csv(\"data/training2_ids.csv\")\n",
    "    idx_holdout = pd.read_csv(\"data/testing_ids.csv\")\n",
    "    \n",
    "    finalDf_test = df.loc[idx_val[\"ids\"],:]\n",
    "    #finalDf_train = munged.loc[~(munged.index).isin(idx_val[\"ids\"])]\n",
    "    finalDf_train = df.loc[(~(munged.index).isin(idx_val[\"ids\"])) & (~(munged.index).isin(idx_holdout[\"ids\"]))] \n",
    "\n",
    "    #creating X, y splits for test and train dataframes\n",
    "    y_train = finalDf_train['Grant.Status'].values\n",
    "    del finalDf_train['Grant.Status']\n",
    "    del finalDf_train['Start.date']\n",
    "    X_train = finalDf_train.values\n",
    "\n",
    "    y_test = finalDf_test['Grant.Status'].values\n",
    "    del finalDf_test['Grant.Status']\n",
    "    del finalDf_test['Start.date']\n",
    "    X_test = finalDf_test.values\n",
    "\n",
    "    return X_train, y_train, X_test, y_test, finalDf_test, finalDf_train"
   ]
  },
  {
   "cell_type": "code",
   "execution_count": 27,
   "metadata": {
    "collapsed": true
   },
   "outputs": [],
   "source": [
    "def dataset_holdout(df):\n",
    "    idx_holdout = pd.read_csv(\"data/testing_ids.csv\")\n",
    "    finalDf_holdout = df.loc[idx_holdout[\"ids\"],:]\n",
    "    \n",
    "    y_holdout = finalDf_holdout['Grant.Status'].values\n",
    "    del finalDf_holdout['Grant.Status']\n",
    "    del finalDf_holdout['Start.date']\n",
    "    X_holdout = finalDf_holdout.values\n",
    "\n",
    "    return X_holdout, y_holdout"
   ]
  },
  {
   "cell_type": "code",
   "execution_count": 28,
   "metadata": {},
   "outputs": [
    {
     "name": "stderr",
     "output_type": "stream",
     "text": [
      "/home/charles/anaconda3/lib/python3.6/site-packages/IPython/core/interactiveshell.py:2821: DtypeWarning: Columns (90,105,119,120,123,124,132,134,135,138,139,147,149,150,153,154,162,164,165,168,169,177,179,183,184,192,194,198,199,207,209,213,214,224,237,239,244) have mixed types. Specify dtype option on import or set low_memory=False.\n",
      "  if self.run_code(code, result):\n",
      "/home/charles/anaconda3/lib/python3.6/site-packages/IPython/core/interactiveshell.py:2881: DtypeWarning: Columns (90,105,119,120,123,124,132,134,135,138,139,147,149,150,153,154,162,164,165,168,169,177,179,183,184,192,194,198,199,207,209,213,214,224,237,239,244) have mixed types. Specify dtype option on import or set low_memory=False.\n",
      "  exec(code_obj, self.user_global_ns, self.user_ns)\n",
      "/home/charles/Desktop/DSR/mini-competition/data_wrangling2.py:63: RuntimeWarning: invalid value encountered in double_scalars\n",
      "  x[i] = 2017 - (np.nansum(tmp_df3.iloc[i, :]) / (16 - nan_ctr))\n"
     ]
    }
   ],
   "source": [
    "orig = dw.get_tables()\n",
    "munged = dw.munge_data(orig)\n",
    "X_train, y_train, X_test, y_test, finalDf_test, finalDf_train = split_df(munged)\n",
    "X_holdout, y_holdout = dataset_holdout(munged)"
   ]
  },
  {
   "cell_type": "code",
   "execution_count": 29,
   "metadata": {
    "collapsed": true
   },
   "outputs": [],
   "source": [
    "def training(X, y, X_test = None, y_test = None, a = None):\n",
    "    if(a != None):\n",
    "        train_labels = np.arange(X.shape[0])\n",
    "        test_labels = np.arange(X_test.shape[0]) + X.shape[0]\n",
    "        X = np.concatenate((X, X_test), axis = 0)\n",
    "        y = np.concatenate((y, y_test), axis = 0)\n",
    "        cv_custom = [(train_labels, test_labels)]\n",
    "    estimators = [\n",
    "            ('scale_predictors', StandardScaler()),\n",
    "            #('feature_selector', LinearSVC(penalty='l1', dual=False)),\n",
    "            #('feature_selector', SelectKBest(score_func=f_classif)),\n",
    "            #('linearSVC', LinearSVC())\n",
    "            ('randomforests', RandomForestClassifier())\n",
    "            ]\n",
    "    clf = Pipeline(estimators)\n",
    "    params = dict(\n",
    "            #linearSVC__C=[0.1, 1, 10],\n",
    "            randomforests__max_depth=[5, 10, None], \n",
    "            randomforests__n_estimators=[10, 50, 100,1000,10000], \n",
    "            #feature_selector__C=[0.1, 1, 10]\n",
    "            #feature_selector__score_func=[chi2],\n",
    "            #feature_selector__k=[5, 10, 'all'] \n",
    "            )\n",
    "    if(a != None):\n",
    "        grid_search = GridSearchCV(clf, param_grid=params, cv=cv_custom, scoring = 'roc_auc', n_jobs = 6)\n",
    "    else:\n",
    "        grid_search = GridSearchCV(clf, param_grid=params, scoring = 'roc_auc', n_jobs = 6)\n",
    "    grid_search.fit(X, y)\n",
    "    return grid_search"
   ]
  },
  {
   "cell_type": "code",
   "execution_count": 30,
   "metadata": {
    "collapsed": true
   },
   "outputs": [],
   "source": [
    "def performance(results, param1, param2):\n",
    "    param1_vals = [x.parameters[param1] for x in results.grid_scores_]\n",
    "    param2_vals = [x.parameters[param2] for x in results.grid_scores_]\n",
    "    means = [x.mean_validation_score for x in results.grid_scores_]\n",
    "    df = pd.DataFrame(list(zip(param1_vals, param2_vals, means)), columns = [param1, param2, 'means'])\n",
    "    df.fillna('None', inplace=True)\n",
    "    return pd.pivot_table(df, values = 'means' , index = param1, columns = param2)"
   ]
  },
  {
   "cell_type": "code",
   "execution_count": 9,
   "metadata": {},
   "outputs": [
    {
     "name": "stdout",
     "output_type": "stream",
     "text": [
      "Using matplotlib backend: Qt5Agg\n",
      "Populating the interactive namespace from numpy and matplotlib\n"
     ]
    }
   ],
   "source": [
    "%matplotlib inline\n",
    "\n",
    "%pylab\n",
    "\n",
    "import matplotlib.pyplot as plt\n",
    "\n",
    "plt.close('all')\n",
    "pylab.rcParams['figure.figsize'] = (30.0, 30.0)\n",
    "\n",
    "offset = 12*0\n",
    "n = 24\n",
    "cols = 3\n",
    "myrange = finalDf_train.columns[list(range(6))+list(range(10, 14))+list(range(15, 20))+[37, 38, 42, 58, 63, 68, 69, 70, 76]]\n",
    "fig, sbp = plt.subplots(n//cols, cols)\n",
    "fig.tight_layout()\n",
    "for i, l in enumerate(myrange[offset:offset+n]):\n",
    "    #print(i,l)\n",
    "    sbp[i //cols][i % cols].set_title('{}: '.format(i+offset)+l, size=30)\n",
    "    finalDf_train[l].hist(ax=sbp[i //cols ][i % cols], bins = 30)"
   ]
  },
  {
   "cell_type": "code",
   "execution_count": 31,
   "metadata": {},
   "outputs": [
    {
     "name": "stderr",
     "output_type": "stream",
     "text": [
      "/home/charles/anaconda3/lib/python3.6/site-packages/sklearn/feature_selection/univariate_selection.py:113: UserWarning: Features [31 56] are constant.\n",
      "  UserWarning)\n",
      "/home/charles/anaconda3/lib/python3.6/site-packages/sklearn/feature_selection/univariate_selection.py:114: RuntimeWarning: invalid value encountered in true_divide\n",
      "  f = msb / msw\n"
     ]
    },
    {
     "data": {
      "text/plain": [
       "array([[99.99810793145086, '50A'],\n",
       "       [75.33491219529495, 'Contract.Value.Band...see.note.A'],\n",
       "       [71.65567722045532, 'Number.of.Successful.Grant.1'],\n",
       "       [43.71242577338992, 'C.1'],\n",
       "       [36.15095593326157, '30A'],\n",
       "       [24.950918125108146, 'Number.of.Unsuccessful.Grant.1'],\n",
       "       [18.44548036859305, 'PRINCIPAL_SUPERVISOR'],\n",
       "       [14.95545625701007, '40C'],\n",
       "       [14.808990104357184, 'SEO.Code._72.0'],\n",
       "       [13.188856809631888, 'RFCD.Code._31.0'],\n",
       "       [11.423064700781278, '% Australians'],\n",
       "       [9.437693239506702, 'Nb_Phd'],\n",
       "       [6.440561858711821, 'RFCD.Code._33.0'],\n",
       "       [5.793846222932014, 'SEO.Code._76.0'],\n",
       "       [5.776419865427003, 'SEO.Code._-0.0'],\n",
       "       [5.238675573420342, 'STUD_CHIEF_INVESTIGATOR'],\n",
       "       [5.1244367077475825, '30B'],\n",
       "       [5.025678603534492, 'A.1'],\n",
       "       [4.901010689159404, '30F'],\n",
       "       [4.147669770910852, 'A..1'],\n",
       "       [3.879956866527504, 'RFCD.Code._41.0'],\n",
       "       [3.5863837187886487, 'RFCD.Code._34.0'],\n",
       "       [3.5532791949973714, 'RFCD.Code._32.0'],\n",
       "       [3.4680472240752818, 'SEO.Code._71.0'],\n",
       "       [3.4298598465453245, '30C'],\n",
       "       [3.2853404055324376, 'EXTERNAL_ADVISOR'],\n",
       "       [3.206693399584536, 'SEO.Code._70.0'],\n",
       "       [2.599174211392893, 'SEO.Code._99.0'],\n",
       "       [2.0819849728352415, 'SEO.Code._73.0'],\n",
       "       [2.059543048182859, 'SEO.Code._62.0'],\n",
       "       [1.9861020744719429, 'SEO.Code._78.0'],\n",
       "       [1.9221414007612272, '30G'],\n",
       "       [1.9164301099787735, 'RFCD.Code._27.0'],\n",
       "       [1.842172906348106, 'RFCD.Code._24.0'],\n",
       "       [1.8014804326297835, 'RFCD.Code._29.0'],\n",
       "       [1.7951259411578677, 'SEO.Code._77.0'],\n",
       "       [1.63248447660866, 'RFCD.Code._28.0'],\n",
       "       [1.59063678495975, 'SEO.Code._74.0'],\n",
       "       [1.5281086448559957, 'RFCD.Code._21.0'],\n",
       "       [1.5011519508492206, 'SEO.Code._75.0'],\n",
       "       [1.4553085887401251, 'CountCountries'],\n",
       "       [1.395641663206613, 'DELEGATED_RESEARCHER'],\n",
       "       [1.3814247360176386, 'Start.date'],\n",
       "       [1.2900411293171579, 'RFCD.Code._37.0'],\n",
       "       [1.2744400739274122, 'RFCD.Code._44.0'],\n",
       "       [1.182856773164316, 'RFCD.Code._43.0'],\n",
       "       [1.1694893410369898, 'STUDRES'],\n",
       "       [1.1211882458657092, '20C'],\n",
       "       [1.11291178863484, 'RFCD.Code._38.0'],\n",
       "       [1.0061067692317016, 'SEO.Code._61.0'],\n",
       "       [1.0031651705397684, 'RFCD.Code._40.0'],\n",
       "       [1.0009267761677898, 'EXT_CHIEF_INVESTIGATOR'],\n",
       "       [0.8565846612032031, 'RFCD.Code._25.0'],\n",
       "       [0.8515374768488216, 'HONVISIT'],\n",
       "       [0.7791814942975601, 'B.1'],\n",
       "       [0.7758551445961754, 'RFCD.Code._23.0'],\n",
       "       [0.6837998329270909, '10B'],\n",
       "       [0.6543178490415141, 'SEO.Code._69.0'],\n",
       "       [0.6247202938723054, 'NbYearsUni'],\n",
       "       [0.5703940519248691, 'CHIEF_INVESTIGATOR']], dtype=object)"
      ]
     },
     "execution_count": 31,
     "metadata": {},
     "output_type": "execute_result"
    }
   ],
   "source": [
    "selector = SelectKBest(f_classif, k=60)\n",
    "selector.fit(X_train, y_train)\n",
    "scores = -np.log10(selector.pvalues_)\n",
    "\n",
    "X_best = X_train[:, selector.get_support()]\n",
    "X_best_test = X_test[:, selector.get_support()]\n",
    "X_best_holdout = X_holdout[:, selector.get_support()]\n",
    "a = np.where(selector.get_support()==True)\n",
    "scores_k = scores[a]\n",
    "\n",
    "mn = munged.copy()\n",
    "#munged = dw.munge_data(orig)\n",
    "del mn['Grant.Status']\n",
    "best_kcols = mn.columns[a]\n",
    "#BetsCols = list(zip(best_kcols, scores_k))\n",
    "BestCols = np.stack((scores_k, best_kcols), axis=1)\n",
    "#munged = dw.munge_data(orig)\n",
    "\n",
    "BestCols[np.argsort(BestCols[:,0],)[::-1]]"
   ]
  },
  {
   "cell_type": "code",
   "execution_count": 32,
   "metadata": {},
   "outputs": [
    {
     "name": "stdout",
     "output_type": "stream",
     "text": [
      "randomforests__n_estimators     10        50        100       1000      10000\n",
      "randomforests__max_depth                                                     \n",
      "5.0                          0.795823  0.881362  0.885372  0.889224  0.885354\n",
      "10.0                         0.877329  0.892303  0.901663  0.907859  0.908631\n",
      "None                         0.860352  0.903236  0.904900  0.909482  0.910661\n"
     ]
    }
   ],
   "source": [
    "#model_on_train = training(X_train, y_train)\n",
    "model_on_train = training(X_best, y_train, X_test=X_best_test, y_test=y_test, a = 2)\n",
    "model_on_train.best_score_\n",
    "#model_on_test.best_score_\n",
    "a = list(model_on_train.param_grid)\n",
    "train_results = performance(model_on_train, a[0],  a[1])\n",
    "#a = list(model_on_test.param_grid)\n",
    "#test_results = performance(model_on_test, a[0],  a[1])\n",
    "print(train_results)\n",
    "#print(test_results)\n",
    "# can only take 2 variables for our pivot table"
   ]
  },
  {
   "cell_type": "code",
   "execution_count": 33,
   "metadata": {},
   "outputs": [
    {
     "data": {
      "text/plain": [
       "0.86872586872586877"
      ]
     },
     "execution_count": 33,
     "metadata": {},
     "output_type": "execute_result"
    }
   ],
   "source": [
    "y_pred = model_on_train.best_estimator_.predict(X_best_holdout)\n",
    "y_score = model_on_train.best_estimator_.predict_proba(X_best_holdout)\n",
    "np.sum(y_holdout == y_pred)/len(y_holdout)\n",
    "#y_score[:,1].ravel()"
   ]
  },
  {
   "cell_type": "code",
   "execution_count": 34,
   "metadata": {
    "scrolled": true
   },
   "outputs": [
    {
     "data": {
      "image/png": "[encoded data removed]",
      "text/plain": [
       "<matplotlib.figure.Figure at 0x7fe917e266a0>"
      ]
     },
     "metadata": {},
     "output_type": "display_data"
    }
   ],
   "source": [
    "from sklearn.metrics import roc_curve, auc\n",
    "%matplotlib inline\n",
    "\n",
    "fpr, tpr, thd = roc_curve(y_holdout.ravel(), y_score[:,1].ravel())\n",
    "roc_auc = auc(fpr, tpr)\n",
    "\n",
    "plt.figure()\n",
    "lw = 2\n",
    "plt.plot(fpr, tpr, color='darkorange',\n",
    "         lw=lw, label='ROC curve (area = %0.2f)' % roc_auc)\n",
    "plt.plot([0, 1], [0, 1], color='navy', lw=lw, linestyle='--')\n",
    "plt.xlim([0.0, 1.0])\n",
    "plt.ylim([0.0, 1.05])\n",
    "plt.xlabel('False Positive Rate')\n",
    "plt.ylabel('True Positive Rate')\n",
    "plt.title('Date grants predictions ROC')\n",
    "plt.legend(loc=\"lower right\")\n",
    "plt.show()"
   ]
  },
  {
   "cell_type": "code",
   "execution_count": null,
   "metadata": {
    "collapsed": true
   },
   "outputs": [],
   "source": []
  }
 ],
 "metadata": {
  "kernelspec": {
   "display_name": "Python 3",
   "language": "python",
   "name": "python3"
  },
  "language_info": {
   "codemirror_mode": {
    "name": "ipython",
    "version": 3
   },
   "file_extension": ".py",
   "mimetype": "text/x-python",
   "name": "python",
   "nbconvert_exporter": "python",
   "pygments_lexer": "ipython3",
   "version": "3.6.1"
  }
 },
 "nbformat": 4,
 "nbformat_minor": 2
}
