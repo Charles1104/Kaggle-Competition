{
 "cells": [
  {
   "cell_type": "code",
   "execution_count": 146,
   "metadata": {
    "collapsed": true
   },
   "outputs": [],
   "source": [
    "import pandas as pd\n",
    "import numpy as np\n",
    "import matplotlib.pyplot as plt"
   ]
  },
  {
   "cell_type": "code",
   "execution_count": 147,
   "metadata": {},
   "outputs": [
    {
     "name": "stderr",
     "output_type": "stream",
     "text": [
      "/home/charles/anaconda3/lib/python3.6/site-packages/IPython/core/interactiveshell.py:2717: DtypeWarning: Columns (90,105,119,120,123,124,132,134,135,138,139,147,149,150,153,154,162,164,165,168,169,177,179,183,184,192,194,198,199,207,209,213,214,224,237,239,244) have mixed types. Specify dtype option on import or set low_memory=False.\n",
      "  interactivity=interactivity, compiler=compiler, result=result)\n"
     ]
    }
   ],
   "source": [
    "df = pd.read_csv('data/unimelb_training.csv')"
   ]
  },
  {
   "cell_type": "code",
   "execution_count": 148,
   "metadata": {},
   "outputs": [
    {
     "name": "stdout",
     "output_type": "stream",
     "text": [
      "214\n"
     ]
    }
   ],
   "source": [
    "counter = 0\n",
    "for i in range(len(df.columns)):\n",
    "    if sum(df.loc[:,df.columns[i]].isnull()) > 2000:\n",
    "        counter += 1\n",
    "print(counter)"
   ]
  },
  {
   "cell_type": "code",
   "execution_count": 149,
   "metadata": {},
   "outputs": [
    {
     "name": "stdout",
     "output_type": "stream",
     "text": [
      "Person.ID.1\n",
      "Role.1\n",
      "Year.of.Birth.1\n",
      "Country.of.Birth.1\n",
      "Home.Language.1\n",
      "Dept.No..1\n",
      "Faculty.No..1\n",
      "With.PHD.1\n",
      "No..of.Years.in.Uni.at.Time.of.Grant.1\n",
      "Number.of.Successful.Grant.1\n",
      "Number.of.Unsuccessful.Grant.1\n",
      "A..1\n",
      "A.1\n",
      "B.1\n",
      "C.1\n"
     ]
    }
   ],
   "source": [
    "counter = 0\n",
    "for i in range(26,41):\n",
    "    print(df.columns[i])"
   ]
  },
  {
   "cell_type": "code",
   "execution_count": 158,
   "metadata": {},
   "outputs": [],
   "source": [
    "index_of_missing = []\n",
    "for i in range(df.shape[0]):\n",
    "    counter = 0\n",
    "    for j in range(1,16):\n",
    "        if (df.loc[i,\"Person.ID.\" + str(j)] == None) | (np.isnan(df.loc[i,\"Person.ID.\" + str(j)])):\n",
    "            counter += 1\n",
    "    if counter == 15:\n",
    "        index_of_missing.append(i)"
   ]
  },
  {
   "cell_type": "code",
   "execution_count": 165,
   "metadata": {},
   "outputs": [
    {
     "data": {
      "text/plain": [
       "468"
      ]
     },
     "execution_count": 165,
     "metadata": {},
     "output_type": "execute_result"
    }
   ],
   "source": [
    "len(index_of_missing)"
   ]
  },
  {
   "cell_type": "code",
   "execution_count": 164,
   "metadata": {},
   "outputs": [
    {
     "data": {
      "text/plain": [
       "Grant.Application.ID                                           58\n",
       "Grant.Status                                                    0\n",
       "Sponsor.Code                                                  NaN\n",
       "Grant.Category.Code                                           NaN\n",
       "Contract.Value.Band...see.note.A                               D \n",
       "Start.date                                               19/11/05\n",
       "RFCD.Code.1                                                   NaN\n",
       "RFCD.Percentage.1                                             NaN\n",
       "RFCD.Code.2                                                   NaN\n",
       "RFCD.Percentage.2                                             NaN\n",
       "RFCD.Code.3                                                   NaN\n",
       "RFCD.Percentage.3                                             NaN\n",
       "RFCD.Code.4                                                   NaN\n",
       "RFCD.Percentage.4                                             NaN\n",
       "RFCD.Code.5                                                   NaN\n",
       "RFCD.Percentage.5                                             NaN\n",
       "SEO.Code.1                                                    NaN\n",
       "SEO.Percentage.1                                              NaN\n",
       "SEO.Code.2                                                    NaN\n",
       "SEO.Percentage.2                                              NaN\n",
       "SEO.Code.3                                                    NaN\n",
       "SEO.Percentage.3                                              NaN\n",
       "SEO.Code.4                                                    NaN\n",
       "SEO.Percentage.4                                              NaN\n",
       "SEO.Code.5                                                    NaN\n",
       "SEO.Percentage.5                                              NaN\n",
       "Person.ID.1                                                   NaN\n",
       "Role.1                                     EXT_CHIEF_INVESTIGATOR\n",
       "Year.of.Birth.1                                               NaN\n",
       "Country.of.Birth.1                                            NaN\n",
       "                                                    ...          \n",
       "Role.14                                                       NaN\n",
       "Year.of.Birth.14                                              NaN\n",
       "Country.of.Birth.14                                           NaN\n",
       "Home.Language.14                                              NaN\n",
       "Dept.No..14                                                   NaN\n",
       "Faculty.No..14                                                NaN\n",
       "With.PHD.14                                                   NaN\n",
       "No..of.Years.in.Uni.at.Time.of.Grant.14                       NaN\n",
       "Number.of.Successful.Grant.14                                 NaN\n",
       "Number.of.Unsuccessful.Grant.14                               NaN\n",
       "A..14                                                         NaN\n",
       "A.14                                                          NaN\n",
       "B.14                                                          NaN\n",
       "C.14                                                          NaN\n",
       "Person.ID.15                                                  NaN\n",
       "Role.15                                                       NaN\n",
       "Year.of.Birth.15                                              NaN\n",
       "Country.of.Birth.15                                           NaN\n",
       "Home.Language.15                                              NaN\n",
       "Dept.No..15                                                   NaN\n",
       "Faculty.No..15                                                NaN\n",
       "With.PHD.15                                                   NaN\n",
       "No..of.Years.in.Uni.at.Time.of.Grant.15                       NaN\n",
       "Number.of.Successful.Grant.15                                 NaN\n",
       "Number.of.Unsuccessful.Grant.15                               NaN\n",
       "A..15                                                         NaN\n",
       "A.15                                                          NaN\n",
       "B.15                                                          NaN\n",
       "C.15                                                          NaN\n",
       "Unnamed: 251                                                  NaN\n",
       "Name: 57, Length: 252, dtype: object"
      ]
     },
     "execution_count": 164,
     "metadata": {},
     "output_type": "execute_result"
    }
   ],
   "source": [
    "df.iloc[57]"
   ]
  },
  {
   "cell_type": "code",
   "execution_count": null,
   "metadata": {},
   "outputs": [],
   "source": [
    "df[\"With.PHD.1\"]"
   ]
  },
  {
   "cell_type": "code",
   "execution_count": null,
   "metadata": {
    "collapsed": true
   },
   "outputs": [],
   "source": []
  }
 ],
 "metadata": {
  "kernelspec": {
   "display_name": "Python 3",
   "language": "python",
   "name": "python3"
  },
  "language_info": {
   "codemirror_mode": {
    "name": "ipython",
    "version": 3
   },
   "file_extension": ".py",
   "mimetype": "text/x-python",
   "name": "python",
   "nbconvert_exporter": "python",
   "pygments_lexer": "ipython3",
   "version": "3.6.1"
  }
 },
 "nbformat": 4,
 "nbformat_minor": 2
}
